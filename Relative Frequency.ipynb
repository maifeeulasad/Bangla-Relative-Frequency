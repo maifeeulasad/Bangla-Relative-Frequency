{
 "cells": [
  {
   "cell_type": "code",
   "execution_count": 21,
   "metadata": {},
   "outputs": [],
   "source": [
    "#import sys\n",
    "#!{sys.executable} -m pip install --user pandas\n",
    "\n",
    "import numpy as np\n",
    "#import pandas as pd\n",
    "import matplotlib.pyplot as plt\n",
    "import matplotlib.font_manager as fm\n",
    "from matplotlib.pyplot import gca"
   ]
  },
  {
   "cell_type": "code",
   "execution_count": 22,
   "metadata": {},
   "outputs": [],
   "source": [
    "freq = {}"
   ]
  },
  {
   "cell_type": "code",
   "execution_count": 23,
   "metadata": {},
   "outputs": [],
   "source": [
    "def read_file(name = 'words.txt'):\n",
    "    cou = 0\n",
    "    with open(name, encoding=\"utf-8\", errors='ignore') as f:\n",
    "        for word in f:\n",
    "            #print(word)\n",
    "            for char in word:\n",
    "                if char in freq:\n",
    "                    freq[char]=freq[char]+1\n",
    "                else:\n",
    "                    freq[char]=int(1)"
   ]
  },
  {
   "cell_type": "code",
   "execution_count": 24,
   "metadata": {},
   "outputs": [],
   "source": [
    "read_file()"
   ]
  },
  {
   "cell_type": "code",
   "execution_count": 25,
   "metadata": {},
   "outputs": [
    {
     "name": "stdout",
     "output_type": "stream",
     "text": [
      "{'য': 4068, 'ে': 7499, 'থ': 1196, 'া': 29872, 'স': 5722, 'ক': 12441, 'র': 19321, 'গ': 4848, 'ু': 7453, 'ল': 7955, 'ো': 5151, 'ন': 14201, 'হ': 2662, 'ত': 11838, 'ই': 1389, 'ভ': 2441, 'ব': 10689, 'ম': 9607, 'ট': 4004, 'ি': 16847, 'খ': 2227, 'য়': 3690, 'ফ': 1297, 'ৌ': 474, 'ী': 5146, '্': 22616, 'জ': 4304, 'দ': 6662, 'ধ': 2882, 'ৃ': 966, 'শ': 4327, '-': 1330, 'প': 8318, 'ণ': 2219, 'ষ': 2727, 'ঙ': 1045, 'ূ': 1161, 'ও': 739, 'ড়': 1932, 'ঃ': 218, 'ঞ': 705, 'ং': 787, 'ৎ': 510, 'চ': 4122, 'ছ': 1132, 'ঠ': 767, 'ড': 778, 'ঘ': 803, 'উ': 1262, '/': 7, 'আ': 1761, '\\u200c': 293, 'ঁ': 1656, 'অ': 2883, 'ঝ': 412, 'ঊ': 53, 'ঢ়': 53, 'ৈ': 395, 'ঢ': 202, ' ': 20, 'এ': 642, '’': 17, 'ঈ': 57, ':': 6, 'ঋ': 54, '”': 2, 'ঔ': 42, 'ঐ': 36, '*': 12, 'j': 1, 'w': 1, 'l': 2, 'o': 3, 's': 1, 'm': 4, 'n': 1, '@': 1, 'g': 1, 'i': 1, '.': 11, 'h': 1, 't': 2, 'p': 1, '২': 5, '৩': 3, '১': 1, '৪': 1, '০': 4, '৮': 1, \"'\": 1}\n"
     ]
    }
   ],
   "source": [
    "#print(freq)\n",
    "try:\n",
    "    del freq['\\n']\n",
    "    del freq['\\ufeff']\n",
    "    del freq['\\u200c']\n",
    "    for char in 'abcdefghijklmnopqrstuvwxyzABCDEFGHIJKLMNOPQRSTUVWXYZ0123456789':\n",
    "        try:\n",
    "            del freq[char]\n",
    "        except:\n",
    "            pass\n",
    "except:\n",
    "    pass\n",
    "print(freq)"
   ]
  },
  {
   "cell_type": "code",
   "execution_count": 26,
   "metadata": {},
   "outputs": [
    {
     "name": "stderr",
     "output_type": "stream",
     "text": [
      "No handles with labels found to put in legend.\n",
      "/usr/lib/python3/dist-packages/ipykernel_launcher.py:7: MatplotlibDeprecationWarning: \n",
      "The createFontList function was deprecated in Matplotlib 3.2 and will be removed two minor releases later. Use FontManager.addfont instead.\n",
      "  import sys\n"
     ]
    },
    {
     "data": {
      "image/png": "[encoded data removed]",
      "text/plain": [
       "<Figure size 720x360 with 1 Axes>"
      ]
     },
     "metadata": {},
     "output_type": "display_data"
    }
   ],
   "source": [
    "fig, ax = plt.subplots(figsize=(10,5))\n",
    "prop = fm.FontProperties(fname='Nikosh.ttf')\n",
    "ax.legend(prop=prop)\n",
    "\n",
    "font_dirs = ['./', ]\n",
    "font_files = fm.findSystemFonts(fontpaths=font_dirs)\n",
    "font_list = fm.createFontList(font_files)\n",
    "fm.fontManager.ttflist.extend(font_list)\n",
    "\n",
    "plt.rcParams['font.family'] = 'Nikosh'\n",
    "\n",
    "keys = freq.keys()\n",
    "values = freq.values()\n",
    "\n",
    "\n",
    "plt.bar(range(len(freq)), list(values), align='center')\n",
    "plt.xticks(np.arange(len(keys)), keys, color='orange', rotation=90)\n",
    "\n",
    "plt.show()"
   ]
  },
  {
   "cell_type": "code",
   "execution_count": null,
   "metadata": {},
   "outputs": [],
   "source": []
  }
 ],
 "metadata": {
  "kernelspec": {
   "display_name": "Python 3",
   "language": "python",
   "name": "python3"
  },
  "language_info": {
   "codemirror_mode": {
    "name": "ipython",
    "version": 3
   },
   "file_extension": ".py",
   "mimetype": "text/x-python",
   "name": "python",
   "nbconvert_exporter": "python",
   "pygments_lexer": "ipython3",
   "version": "3.6.9"
  }
 },
 "nbformat": 4,
 "nbformat_minor": 2
}
