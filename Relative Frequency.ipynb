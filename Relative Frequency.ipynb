{
 "cells": [
  {
   "cell_type": "code",
   "execution_count": null,
   "metadata": {},
   "outputs": [],
   "source": [
    "#import sys\n",
    "#!{sys.executable} -m pip install --user pandas\n",
    "\n",
    "import numpy as np\n",
    "#import pandas as pd\n",
    "import matplotlib.pyplot as plt\n",
    "import matplotlib.font_manager as fm\n",
    "from matplotlib.pyplot import gca"
   ]
  },
  {
   "cell_type": "code",
   "execution_count": null,
   "metadata": {},
   "outputs": [],
   "source": [
    "freq = {}"
   ]
  },
  {
   "cell_type": "code",
   "execution_count": null,
   "metadata": {},
   "outputs": [],
   "source": [
    "def read_file(name = 'words.txt'):\n",
    "    cou = 0\n",
    "    with open(name, encoding=\"utf-8\", errors='ignore') as f:\n",
    "        for word in f:\n",
    "            #print(word)\n",
    "            for char in word:\n",
    "                if char in freq:\n",
    "                    freq[char]=freq[char]+1\n",
    "                else:\n",
    "                    freq[char]=int(1)"
   ]
  },
  {
   "cell_type": "code",
   "execution_count": null,
   "metadata": {},
   "outputs": [],
   "source": [
    "read_file()"
   ]
  },
  {
   "cell_type": "code",
   "execution_count": null,
   "metadata": {},
   "outputs": [],
   "source": [
    "def prune():\n",
    "    try:\n",
    "        del freq['\\n']\n",
    "        del freq['\\ufeff']\n",
    "        del freq['\\u200c']\n",
    "        del freq['\\u200d']\n",
    "        english = 'abcdefghijklmnopqrstuvwxyzABCDEFGHIJKLMNOPQRSTUVWXYZ0123456789'\n",
    "        for char in english_alpha:\n",
    "            try:\n",
    "                del freq[char]\n",
    "            except:\n",
    "                pass\n",
    "        bengali_num = '১২৩৪৫৬৭৮৯০'\n",
    "        for char in bengali_num:\n",
    "            try:\n",
    "                del freq[char]\n",
    "            except:\n",
    "                pass\n",
    "        symbols = '`~@#$%^&*,./?;:\\'\\\"(){}[]'\n",
    "        for char in symbols:\n",
    "            try:\n",
    "                del freq[char]\n",
    "            except:\n",
    "                pass\n",
    "    except:\n",
    "        pass\n",
    "    #print(freq)"
   ]
  },
  {
   "cell_type": "code",
   "execution_count": null,
   "metadata": {},
   "outputs": [],
   "source": [
    "prune()"
   ]
  },
  {
   "cell_type": "code",
   "execution_count": null,
   "metadata": {},
   "outputs": [],
   "source": [
    "fig, ax = plt.subplots(figsize=(40,20))\n",
    "prop = fm.FontProperties(fname='Nikosh.ttf')\n",
    "ax.legend(prop=prop)\n",
    "\n",
    "font_dirs = ['./', ]\n",
    "font_files = fm.findSystemFonts(fontpaths=font_dirs)\n",
    "font_list = fm.createFontList(font_files)\n",
    "fm.fontManager.ttflist.extend(font_list)\n",
    "\n",
    "plt.rcParams['font.family'] = 'Nikosh'\n",
    "#plt.rcParams[\"font.size\"] = \"50\"\n",
    "plt.tick_params(labelsize=36)\n",
    "\n",
    "keys = freq.keys()\n",
    "values = freq.values()\n",
    "\n",
    "alpha_seq = 'অআ াই িঈ ীউ ুঊ ূঋ ৃএ েঐ ৈও োঔ ৌকখগঘঙচছজঝঞটঠডঢণতথদধনপফবভমযরলশষসহড়ঢ়য়ৎংঃঁ'\n",
    "alpha_seq =\"\".join(alpha_seq.split()) \n",
    "\n",
    "#print(list(alpha_seq))\n",
    "\n",
    "sorted_values = []\n",
    "\n",
    "for alpha in alpha_seq:\n",
    "    sorted_values.append(freq[alpha] if alpha in freq else 0)\n",
    "\n",
    "plt.bar(range(len(alpha_seq)), sorted_values, align='center')\n",
    "plt.xticks(np.arange(len(alpha_seq)), list(alpha_seq), color='orange', rotation=90)\n",
    "\n",
    "plt.show()"
   ]
  },
  {
   "cell_type": "code",
   "execution_count": null,
   "metadata": {},
   "outputs": [],
   "source": []
  }
 ],
 "metadata": {
  "kernelspec": {
   "display_name": "Python 3",
   "language": "python",
   "name": "python3"
  },
  "language_info": {
   "codemirror_mode": {
    "name": "ipython",
    "version": 3
   },
   "file_extension": ".py",
   "mimetype": "text/x-python",
   "name": "python",
   "nbconvert_exporter": "python",
   "pygments_lexer": "ipython3",
   "version": "3.6.9"
  }
 },
 "nbformat": 4,
 "nbformat_minor": 2
}
